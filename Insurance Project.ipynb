{
 "cells": [
  {
   "cell_type": "code",
   "execution_count": 1,
   "metadata": {},
   "outputs": [
    {
     "data": {
      "text/plain": [
       "'2.2.2'"
      ]
     },
     "execution_count": 1,
     "metadata": {},
     "output_type": "execute_result"
    }
   ],
   "source": [
    "from pycaret.utils import version\n",
    "version()"
   ]
  },
  {
   "cell_type": "code",
   "execution_count": 2,
   "metadata": {},
   "outputs": [],
   "source": [
    "import pandas as pd\n",
    "data = pd.read_csv('insurance.csv')"
   ]
  },
  {
   "cell_type": "code",
   "execution_count": 3,
   "metadata": {},
   "outputs": [
    {
     "data": {
      "text/html": [
       "<div>\n",
       "<style scoped>\n",
       "    .dataframe tbody tr th:only-of-type {\n",
       "        vertical-align: middle;\n",
       "    }\n",
       "\n",
       "    .dataframe tbody tr th {\n",
       "        vertical-align: top;\n",
       "    }\n",
       "\n",
       "    .dataframe thead th {\n",
       "        text-align: right;\n",
       "    }\n",
       "</style>\n",
       "<table border=\"1\" class=\"dataframe\">\n",
       "  <thead>\n",
       "    <tr style=\"text-align: right;\">\n",
       "      <th></th>\n",
       "      <th>age</th>\n",
       "      <th>sex</th>\n",
       "      <th>bmi</th>\n",
       "      <th>children</th>\n",
       "      <th>smoker</th>\n",
       "      <th>region</th>\n",
       "      <th>charges</th>\n",
       "    </tr>\n",
       "  </thead>\n",
       "  <tbody>\n",
       "    <tr>\n",
       "      <th>0</th>\n",
       "      <td>19</td>\n",
       "      <td>female</td>\n",
       "      <td>27.900</td>\n",
       "      <td>0</td>\n",
       "      <td>yes</td>\n",
       "      <td>southwest</td>\n",
       "      <td>16884.92400</td>\n",
       "    </tr>\n",
       "    <tr>\n",
       "      <th>1</th>\n",
       "      <td>18</td>\n",
       "      <td>male</td>\n",
       "      <td>33.770</td>\n",
       "      <td>1</td>\n",
       "      <td>no</td>\n",
       "      <td>southeast</td>\n",
       "      <td>1725.55230</td>\n",
       "    </tr>\n",
       "    <tr>\n",
       "      <th>2</th>\n",
       "      <td>28</td>\n",
       "      <td>male</td>\n",
       "      <td>33.000</td>\n",
       "      <td>3</td>\n",
       "      <td>no</td>\n",
       "      <td>southeast</td>\n",
       "      <td>4449.46200</td>\n",
       "    </tr>\n",
       "    <tr>\n",
       "      <th>3</th>\n",
       "      <td>33</td>\n",
       "      <td>male</td>\n",
       "      <td>22.705</td>\n",
       "      <td>0</td>\n",
       "      <td>no</td>\n",
       "      <td>northwest</td>\n",
       "      <td>21984.47061</td>\n",
       "    </tr>\n",
       "    <tr>\n",
       "      <th>4</th>\n",
       "      <td>32</td>\n",
       "      <td>male</td>\n",
       "      <td>28.880</td>\n",
       "      <td>0</td>\n",
       "      <td>no</td>\n",
       "      <td>northwest</td>\n",
       "      <td>3866.85520</td>\n",
       "    </tr>\n",
       "  </tbody>\n",
       "</table>\n",
       "</div>"
      ],
      "text/plain": [
       "   age     sex     bmi  children smoker     region      charges\n",
       "0   19  female  27.900         0    yes  southwest  16884.92400\n",
       "1   18    male  33.770         1     no  southeast   1725.55230\n",
       "2   28    male  33.000         3     no  southeast   4449.46200\n",
       "3   33    male  22.705         0     no  northwest  21984.47061\n",
       "4   32    male  28.880         0     no  northwest   3866.85520"
      ]
     },
     "execution_count": 3,
     "metadata": {},
     "output_type": "execute_result"
    }
   ],
   "source": [
    "data.head()"
   ]
  },
  {
   "cell_type": "code",
   "execution_count": 4,
   "metadata": {},
   "outputs": [
    {
     "data": {
      "text/plain": [
       "(1338, 7)"
      ]
     },
     "execution_count": 4,
     "metadata": {},
     "output_type": "execute_result"
    }
   ],
   "source": [
    "data.shape"
   ]
  },
  {
   "cell_type": "code",
   "execution_count": 5,
   "metadata": {},
   "outputs": [
    {
     "data": {
      "text/html": [
       "<style  type=\"text/css\" >\n",
       "</style><table id=\"T_b5182b1e_4207_11eb_bf59_482ae32b83da\" ><thead>    <tr>        <th class=\"blank level0\" ></th>        <th class=\"col_heading level0 col0\" >Description</th>        <th class=\"col_heading level0 col1\" >Value</th>    </tr></thead><tbody>\n",
       "                <tr>\n",
       "                        <th id=\"T_b5182b1e_4207_11eb_bf59_482ae32b83dalevel0_row0\" class=\"row_heading level0 row0\" >0</th>\n",
       "                        <td id=\"T_b5182b1e_4207_11eb_bf59_482ae32b83darow0_col0\" class=\"data row0 col0\" >session_id</td>\n",
       "                        <td id=\"T_b5182b1e_4207_11eb_bf59_482ae32b83darow0_col1\" class=\"data row0 col1\" >3372</td>\n",
       "            </tr>\n",
       "            <tr>\n",
       "                        <th id=\"T_b5182b1e_4207_11eb_bf59_482ae32b83dalevel0_row1\" class=\"row_heading level0 row1\" >1</th>\n",
       "                        <td id=\"T_b5182b1e_4207_11eb_bf59_482ae32b83darow1_col0\" class=\"data row1 col0\" >Target</td>\n",
       "                        <td id=\"T_b5182b1e_4207_11eb_bf59_482ae32b83darow1_col1\" class=\"data row1 col1\" >charges</td>\n",
       "            </tr>\n",
       "            <tr>\n",
       "                        <th id=\"T_b5182b1e_4207_11eb_bf59_482ae32b83dalevel0_row2\" class=\"row_heading level0 row2\" >2</th>\n",
       "                        <td id=\"T_b5182b1e_4207_11eb_bf59_482ae32b83darow2_col0\" class=\"data row2 col0\" >Original Data</td>\n",
       "                        <td id=\"T_b5182b1e_4207_11eb_bf59_482ae32b83darow2_col1\" class=\"data row2 col1\" >(1338, 7)</td>\n",
       "            </tr>\n",
       "            <tr>\n",
       "                        <th id=\"T_b5182b1e_4207_11eb_bf59_482ae32b83dalevel0_row3\" class=\"row_heading level0 row3\" >3</th>\n",
       "                        <td id=\"T_b5182b1e_4207_11eb_bf59_482ae32b83darow3_col0\" class=\"data row3 col0\" >Missing Values</td>\n",
       "                        <td id=\"T_b5182b1e_4207_11eb_bf59_482ae32b83darow3_col1\" class=\"data row3 col1\" >False</td>\n",
       "            </tr>\n",
       "            <tr>\n",
       "                        <th id=\"T_b5182b1e_4207_11eb_bf59_482ae32b83dalevel0_row4\" class=\"row_heading level0 row4\" >4</th>\n",
       "                        <td id=\"T_b5182b1e_4207_11eb_bf59_482ae32b83darow4_col0\" class=\"data row4 col0\" >Numeric Features</td>\n",
       "                        <td id=\"T_b5182b1e_4207_11eb_bf59_482ae32b83darow4_col1\" class=\"data row4 col1\" >2</td>\n",
       "            </tr>\n",
       "            <tr>\n",
       "                        <th id=\"T_b5182b1e_4207_11eb_bf59_482ae32b83dalevel0_row5\" class=\"row_heading level0 row5\" >5</th>\n",
       "                        <td id=\"T_b5182b1e_4207_11eb_bf59_482ae32b83darow5_col0\" class=\"data row5 col0\" >Categorical Features</td>\n",
       "                        <td id=\"T_b5182b1e_4207_11eb_bf59_482ae32b83darow5_col1\" class=\"data row5 col1\" >4</td>\n",
       "            </tr>\n",
       "            <tr>\n",
       "                        <th id=\"T_b5182b1e_4207_11eb_bf59_482ae32b83dalevel0_row6\" class=\"row_heading level0 row6\" >6</th>\n",
       "                        <td id=\"T_b5182b1e_4207_11eb_bf59_482ae32b83darow6_col0\" class=\"data row6 col0\" >Ordinal Features</td>\n",
       "                        <td id=\"T_b5182b1e_4207_11eb_bf59_482ae32b83darow6_col1\" class=\"data row6 col1\" >False</td>\n",
       "            </tr>\n",
       "            <tr>\n",
       "                        <th id=\"T_b5182b1e_4207_11eb_bf59_482ae32b83dalevel0_row7\" class=\"row_heading level0 row7\" >7</th>\n",
       "                        <td id=\"T_b5182b1e_4207_11eb_bf59_482ae32b83darow7_col0\" class=\"data row7 col0\" >High Cardinality Features</td>\n",
       "                        <td id=\"T_b5182b1e_4207_11eb_bf59_482ae32b83darow7_col1\" class=\"data row7 col1\" >False</td>\n",
       "            </tr>\n",
       "            <tr>\n",
       "                        <th id=\"T_b5182b1e_4207_11eb_bf59_482ae32b83dalevel0_row8\" class=\"row_heading level0 row8\" >8</th>\n",
       "                        <td id=\"T_b5182b1e_4207_11eb_bf59_482ae32b83darow8_col0\" class=\"data row8 col0\" >High Cardinality Method</td>\n",
       "                        <td id=\"T_b5182b1e_4207_11eb_bf59_482ae32b83darow8_col1\" class=\"data row8 col1\" >None</td>\n",
       "            </tr>\n",
       "            <tr>\n",
       "                        <th id=\"T_b5182b1e_4207_11eb_bf59_482ae32b83dalevel0_row9\" class=\"row_heading level0 row9\" >9</th>\n",
       "                        <td id=\"T_b5182b1e_4207_11eb_bf59_482ae32b83darow9_col0\" class=\"data row9 col0\" >Transformed Train Set</td>\n",
       "                        <td id=\"T_b5182b1e_4207_11eb_bf59_482ae32b83darow9_col1\" class=\"data row9 col1\" >(936, 14)</td>\n",
       "            </tr>\n",
       "            <tr>\n",
       "                        <th id=\"T_b5182b1e_4207_11eb_bf59_482ae32b83dalevel0_row10\" class=\"row_heading level0 row10\" >10</th>\n",
       "                        <td id=\"T_b5182b1e_4207_11eb_bf59_482ae32b83darow10_col0\" class=\"data row10 col0\" >Transformed Test Set</td>\n",
       "                        <td id=\"T_b5182b1e_4207_11eb_bf59_482ae32b83darow10_col1\" class=\"data row10 col1\" >(402, 14)</td>\n",
       "            </tr>\n",
       "            <tr>\n",
       "                        <th id=\"T_b5182b1e_4207_11eb_bf59_482ae32b83dalevel0_row11\" class=\"row_heading level0 row11\" >11</th>\n",
       "                        <td id=\"T_b5182b1e_4207_11eb_bf59_482ae32b83darow11_col0\" class=\"data row11 col0\" >Shuffle Train-Test</td>\n",
       "                        <td id=\"T_b5182b1e_4207_11eb_bf59_482ae32b83darow11_col1\" class=\"data row11 col1\" >True</td>\n",
       "            </tr>\n",
       "            <tr>\n",
       "                        <th id=\"T_b5182b1e_4207_11eb_bf59_482ae32b83dalevel0_row12\" class=\"row_heading level0 row12\" >12</th>\n",
       "                        <td id=\"T_b5182b1e_4207_11eb_bf59_482ae32b83darow12_col0\" class=\"data row12 col0\" >Stratify Train-Test</td>\n",
       "                        <td id=\"T_b5182b1e_4207_11eb_bf59_482ae32b83darow12_col1\" class=\"data row12 col1\" >False</td>\n",
       "            </tr>\n",
       "            <tr>\n",
       "                        <th id=\"T_b5182b1e_4207_11eb_bf59_482ae32b83dalevel0_row13\" class=\"row_heading level0 row13\" >13</th>\n",
       "                        <td id=\"T_b5182b1e_4207_11eb_bf59_482ae32b83darow13_col0\" class=\"data row13 col0\" >Fold Generator</td>\n",
       "                        <td id=\"T_b5182b1e_4207_11eb_bf59_482ae32b83darow13_col1\" class=\"data row13 col1\" >KFold</td>\n",
       "            </tr>\n",
       "            <tr>\n",
       "                        <th id=\"T_b5182b1e_4207_11eb_bf59_482ae32b83dalevel0_row14\" class=\"row_heading level0 row14\" >14</th>\n",
       "                        <td id=\"T_b5182b1e_4207_11eb_bf59_482ae32b83darow14_col0\" class=\"data row14 col0\" >Fold Number</td>\n",
       "                        <td id=\"T_b5182b1e_4207_11eb_bf59_482ae32b83darow14_col1\" class=\"data row14 col1\" >10</td>\n",
       "            </tr>\n",
       "            <tr>\n",
       "                        <th id=\"T_b5182b1e_4207_11eb_bf59_482ae32b83dalevel0_row15\" class=\"row_heading level0 row15\" >15</th>\n",
       "                        <td id=\"T_b5182b1e_4207_11eb_bf59_482ae32b83darow15_col0\" class=\"data row15 col0\" >CPU Jobs</td>\n",
       "                        <td id=\"T_b5182b1e_4207_11eb_bf59_482ae32b83darow15_col1\" class=\"data row15 col1\" >-1</td>\n",
       "            </tr>\n",
       "            <tr>\n",
       "                        <th id=\"T_b5182b1e_4207_11eb_bf59_482ae32b83dalevel0_row16\" class=\"row_heading level0 row16\" >16</th>\n",
       "                        <td id=\"T_b5182b1e_4207_11eb_bf59_482ae32b83darow16_col0\" class=\"data row16 col0\" >Use GPU</td>\n",
       "                        <td id=\"T_b5182b1e_4207_11eb_bf59_482ae32b83darow16_col1\" class=\"data row16 col1\" >False</td>\n",
       "            </tr>\n",
       "            <tr>\n",
       "                        <th id=\"T_b5182b1e_4207_11eb_bf59_482ae32b83dalevel0_row17\" class=\"row_heading level0 row17\" >17</th>\n",
       "                        <td id=\"T_b5182b1e_4207_11eb_bf59_482ae32b83darow17_col0\" class=\"data row17 col0\" >Log Experiment</td>\n",
       "                        <td id=\"T_b5182b1e_4207_11eb_bf59_482ae32b83darow17_col1\" class=\"data row17 col1\" >False</td>\n",
       "            </tr>\n",
       "            <tr>\n",
       "                        <th id=\"T_b5182b1e_4207_11eb_bf59_482ae32b83dalevel0_row18\" class=\"row_heading level0 row18\" >18</th>\n",
       "                        <td id=\"T_b5182b1e_4207_11eb_bf59_482ae32b83darow18_col0\" class=\"data row18 col0\" >Experiment Name</td>\n",
       "                        <td id=\"T_b5182b1e_4207_11eb_bf59_482ae32b83darow18_col1\" class=\"data row18 col1\" >reg-default-name</td>\n",
       "            </tr>\n",
       "            <tr>\n",
       "                        <th id=\"T_b5182b1e_4207_11eb_bf59_482ae32b83dalevel0_row19\" class=\"row_heading level0 row19\" >19</th>\n",
       "                        <td id=\"T_b5182b1e_4207_11eb_bf59_482ae32b83darow19_col0\" class=\"data row19 col0\" >USI</td>\n",
       "                        <td id=\"T_b5182b1e_4207_11eb_bf59_482ae32b83darow19_col1\" class=\"data row19 col1\" >0bd8</td>\n",
       "            </tr>\n",
       "            <tr>\n",
       "                        <th id=\"T_b5182b1e_4207_11eb_bf59_482ae32b83dalevel0_row20\" class=\"row_heading level0 row20\" >20</th>\n",
       "                        <td id=\"T_b5182b1e_4207_11eb_bf59_482ae32b83darow20_col0\" class=\"data row20 col0\" >Imputation Type</td>\n",
       "                        <td id=\"T_b5182b1e_4207_11eb_bf59_482ae32b83darow20_col1\" class=\"data row20 col1\" >simple</td>\n",
       "            </tr>\n",
       "            <tr>\n",
       "                        <th id=\"T_b5182b1e_4207_11eb_bf59_482ae32b83dalevel0_row21\" class=\"row_heading level0 row21\" >21</th>\n",
       "                        <td id=\"T_b5182b1e_4207_11eb_bf59_482ae32b83darow21_col0\" class=\"data row21 col0\" >Iterative Imputation Iteration</td>\n",
       "                        <td id=\"T_b5182b1e_4207_11eb_bf59_482ae32b83darow21_col1\" class=\"data row21 col1\" >None</td>\n",
       "            </tr>\n",
       "            <tr>\n",
       "                        <th id=\"T_b5182b1e_4207_11eb_bf59_482ae32b83dalevel0_row22\" class=\"row_heading level0 row22\" >22</th>\n",
       "                        <td id=\"T_b5182b1e_4207_11eb_bf59_482ae32b83darow22_col0\" class=\"data row22 col0\" >Numeric Imputer</td>\n",
       "                        <td id=\"T_b5182b1e_4207_11eb_bf59_482ae32b83darow22_col1\" class=\"data row22 col1\" >mean</td>\n",
       "            </tr>\n",
       "            <tr>\n",
       "                        <th id=\"T_b5182b1e_4207_11eb_bf59_482ae32b83dalevel0_row23\" class=\"row_heading level0 row23\" >23</th>\n",
       "                        <td id=\"T_b5182b1e_4207_11eb_bf59_482ae32b83darow23_col0\" class=\"data row23 col0\" >Iterative Imputation Numeric Model</td>\n",
       "                        <td id=\"T_b5182b1e_4207_11eb_bf59_482ae32b83darow23_col1\" class=\"data row23 col1\" >None</td>\n",
       "            </tr>\n",
       "            <tr>\n",
       "                        <th id=\"T_b5182b1e_4207_11eb_bf59_482ae32b83dalevel0_row24\" class=\"row_heading level0 row24\" >24</th>\n",
       "                        <td id=\"T_b5182b1e_4207_11eb_bf59_482ae32b83darow24_col0\" class=\"data row24 col0\" >Categorical Imputer</td>\n",
       "                        <td id=\"T_b5182b1e_4207_11eb_bf59_482ae32b83darow24_col1\" class=\"data row24 col1\" >constant</td>\n",
       "            </tr>\n",
       "            <tr>\n",
       "                        <th id=\"T_b5182b1e_4207_11eb_bf59_482ae32b83dalevel0_row25\" class=\"row_heading level0 row25\" >25</th>\n",
       "                        <td id=\"T_b5182b1e_4207_11eb_bf59_482ae32b83darow25_col0\" class=\"data row25 col0\" >Iterative Imputation Categorical Model</td>\n",
       "                        <td id=\"T_b5182b1e_4207_11eb_bf59_482ae32b83darow25_col1\" class=\"data row25 col1\" >None</td>\n",
       "            </tr>\n",
       "            <tr>\n",
       "                        <th id=\"T_b5182b1e_4207_11eb_bf59_482ae32b83dalevel0_row26\" class=\"row_heading level0 row26\" >26</th>\n",
       "                        <td id=\"T_b5182b1e_4207_11eb_bf59_482ae32b83darow26_col0\" class=\"data row26 col0\" >Unknown Categoricals Handling</td>\n",
       "                        <td id=\"T_b5182b1e_4207_11eb_bf59_482ae32b83darow26_col1\" class=\"data row26 col1\" >least_frequent</td>\n",
       "            </tr>\n",
       "            <tr>\n",
       "                        <th id=\"T_b5182b1e_4207_11eb_bf59_482ae32b83dalevel0_row27\" class=\"row_heading level0 row27\" >27</th>\n",
       "                        <td id=\"T_b5182b1e_4207_11eb_bf59_482ae32b83darow27_col0\" class=\"data row27 col0\" >Normalize</td>\n",
       "                        <td id=\"T_b5182b1e_4207_11eb_bf59_482ae32b83darow27_col1\" class=\"data row27 col1\" >False</td>\n",
       "            </tr>\n",
       "            <tr>\n",
       "                        <th id=\"T_b5182b1e_4207_11eb_bf59_482ae32b83dalevel0_row28\" class=\"row_heading level0 row28\" >28</th>\n",
       "                        <td id=\"T_b5182b1e_4207_11eb_bf59_482ae32b83darow28_col0\" class=\"data row28 col0\" >Normalize Method</td>\n",
       "                        <td id=\"T_b5182b1e_4207_11eb_bf59_482ae32b83darow28_col1\" class=\"data row28 col1\" >None</td>\n",
       "            </tr>\n",
       "            <tr>\n",
       "                        <th id=\"T_b5182b1e_4207_11eb_bf59_482ae32b83dalevel0_row29\" class=\"row_heading level0 row29\" >29</th>\n",
       "                        <td id=\"T_b5182b1e_4207_11eb_bf59_482ae32b83darow29_col0\" class=\"data row29 col0\" >Transformation</td>\n",
       "                        <td id=\"T_b5182b1e_4207_11eb_bf59_482ae32b83darow29_col1\" class=\"data row29 col1\" >False</td>\n",
       "            </tr>\n",
       "            <tr>\n",
       "                        <th id=\"T_b5182b1e_4207_11eb_bf59_482ae32b83dalevel0_row30\" class=\"row_heading level0 row30\" >30</th>\n",
       "                        <td id=\"T_b5182b1e_4207_11eb_bf59_482ae32b83darow30_col0\" class=\"data row30 col0\" >Transformation Method</td>\n",
       "                        <td id=\"T_b5182b1e_4207_11eb_bf59_482ae32b83darow30_col1\" class=\"data row30 col1\" >None</td>\n",
       "            </tr>\n",
       "            <tr>\n",
       "                        <th id=\"T_b5182b1e_4207_11eb_bf59_482ae32b83dalevel0_row31\" class=\"row_heading level0 row31\" >31</th>\n",
       "                        <td id=\"T_b5182b1e_4207_11eb_bf59_482ae32b83darow31_col0\" class=\"data row31 col0\" >PCA</td>\n",
       "                        <td id=\"T_b5182b1e_4207_11eb_bf59_482ae32b83darow31_col1\" class=\"data row31 col1\" >False</td>\n",
       "            </tr>\n",
       "            <tr>\n",
       "                        <th id=\"T_b5182b1e_4207_11eb_bf59_482ae32b83dalevel0_row32\" class=\"row_heading level0 row32\" >32</th>\n",
       "                        <td id=\"T_b5182b1e_4207_11eb_bf59_482ae32b83darow32_col0\" class=\"data row32 col0\" >PCA Method</td>\n",
       "                        <td id=\"T_b5182b1e_4207_11eb_bf59_482ae32b83darow32_col1\" class=\"data row32 col1\" >None</td>\n",
       "            </tr>\n",
       "            <tr>\n",
       "                        <th id=\"T_b5182b1e_4207_11eb_bf59_482ae32b83dalevel0_row33\" class=\"row_heading level0 row33\" >33</th>\n",
       "                        <td id=\"T_b5182b1e_4207_11eb_bf59_482ae32b83darow33_col0\" class=\"data row33 col0\" >PCA Components</td>\n",
       "                        <td id=\"T_b5182b1e_4207_11eb_bf59_482ae32b83darow33_col1\" class=\"data row33 col1\" >None</td>\n",
       "            </tr>\n",
       "            <tr>\n",
       "                        <th id=\"T_b5182b1e_4207_11eb_bf59_482ae32b83dalevel0_row34\" class=\"row_heading level0 row34\" >34</th>\n",
       "                        <td id=\"T_b5182b1e_4207_11eb_bf59_482ae32b83darow34_col0\" class=\"data row34 col0\" >Ignore Low Variance</td>\n",
       "                        <td id=\"T_b5182b1e_4207_11eb_bf59_482ae32b83darow34_col1\" class=\"data row34 col1\" >False</td>\n",
       "            </tr>\n",
       "            <tr>\n",
       "                        <th id=\"T_b5182b1e_4207_11eb_bf59_482ae32b83dalevel0_row35\" class=\"row_heading level0 row35\" >35</th>\n",
       "                        <td id=\"T_b5182b1e_4207_11eb_bf59_482ae32b83darow35_col0\" class=\"data row35 col0\" >Combine Rare Levels</td>\n",
       "                        <td id=\"T_b5182b1e_4207_11eb_bf59_482ae32b83darow35_col1\" class=\"data row35 col1\" >False</td>\n",
       "            </tr>\n",
       "            <tr>\n",
       "                        <th id=\"T_b5182b1e_4207_11eb_bf59_482ae32b83dalevel0_row36\" class=\"row_heading level0 row36\" >36</th>\n",
       "                        <td id=\"T_b5182b1e_4207_11eb_bf59_482ae32b83darow36_col0\" class=\"data row36 col0\" >Rare Level Threshold</td>\n",
       "                        <td id=\"T_b5182b1e_4207_11eb_bf59_482ae32b83darow36_col1\" class=\"data row36 col1\" >None</td>\n",
       "            </tr>\n",
       "            <tr>\n",
       "                        <th id=\"T_b5182b1e_4207_11eb_bf59_482ae32b83dalevel0_row37\" class=\"row_heading level0 row37\" >37</th>\n",
       "                        <td id=\"T_b5182b1e_4207_11eb_bf59_482ae32b83darow37_col0\" class=\"data row37 col0\" >Numeric Binning</td>\n",
       "                        <td id=\"T_b5182b1e_4207_11eb_bf59_482ae32b83darow37_col1\" class=\"data row37 col1\" >False</td>\n",
       "            </tr>\n",
       "            <tr>\n",
       "                        <th id=\"T_b5182b1e_4207_11eb_bf59_482ae32b83dalevel0_row38\" class=\"row_heading level0 row38\" >38</th>\n",
       "                        <td id=\"T_b5182b1e_4207_11eb_bf59_482ae32b83darow38_col0\" class=\"data row38 col0\" >Remove Outliers</td>\n",
       "                        <td id=\"T_b5182b1e_4207_11eb_bf59_482ae32b83darow38_col1\" class=\"data row38 col1\" >False</td>\n",
       "            </tr>\n",
       "            <tr>\n",
       "                        <th id=\"T_b5182b1e_4207_11eb_bf59_482ae32b83dalevel0_row39\" class=\"row_heading level0 row39\" >39</th>\n",
       "                        <td id=\"T_b5182b1e_4207_11eb_bf59_482ae32b83darow39_col0\" class=\"data row39 col0\" >Outliers Threshold</td>\n",
       "                        <td id=\"T_b5182b1e_4207_11eb_bf59_482ae32b83darow39_col1\" class=\"data row39 col1\" >None</td>\n",
       "            </tr>\n",
       "            <tr>\n",
       "                        <th id=\"T_b5182b1e_4207_11eb_bf59_482ae32b83dalevel0_row40\" class=\"row_heading level0 row40\" >40</th>\n",
       "                        <td id=\"T_b5182b1e_4207_11eb_bf59_482ae32b83darow40_col0\" class=\"data row40 col0\" >Remove Multicollinearity</td>\n",
       "                        <td id=\"T_b5182b1e_4207_11eb_bf59_482ae32b83darow40_col1\" class=\"data row40 col1\" >False</td>\n",
       "            </tr>\n",
       "            <tr>\n",
       "                        <th id=\"T_b5182b1e_4207_11eb_bf59_482ae32b83dalevel0_row41\" class=\"row_heading level0 row41\" >41</th>\n",
       "                        <td id=\"T_b5182b1e_4207_11eb_bf59_482ae32b83darow41_col0\" class=\"data row41 col0\" >Multicollinearity Threshold</td>\n",
       "                        <td id=\"T_b5182b1e_4207_11eb_bf59_482ae32b83darow41_col1\" class=\"data row41 col1\" >None</td>\n",
       "            </tr>\n",
       "            <tr>\n",
       "                        <th id=\"T_b5182b1e_4207_11eb_bf59_482ae32b83dalevel0_row42\" class=\"row_heading level0 row42\" >42</th>\n",
       "                        <td id=\"T_b5182b1e_4207_11eb_bf59_482ae32b83darow42_col0\" class=\"data row42 col0\" >Clustering</td>\n",
       "                        <td id=\"T_b5182b1e_4207_11eb_bf59_482ae32b83darow42_col1\" class=\"data row42 col1\" >False</td>\n",
       "            </tr>\n",
       "            <tr>\n",
       "                        <th id=\"T_b5182b1e_4207_11eb_bf59_482ae32b83dalevel0_row43\" class=\"row_heading level0 row43\" >43</th>\n",
       "                        <td id=\"T_b5182b1e_4207_11eb_bf59_482ae32b83darow43_col0\" class=\"data row43 col0\" >Clustering Iteration</td>\n",
       "                        <td id=\"T_b5182b1e_4207_11eb_bf59_482ae32b83darow43_col1\" class=\"data row43 col1\" >None</td>\n",
       "            </tr>\n",
       "            <tr>\n",
       "                        <th id=\"T_b5182b1e_4207_11eb_bf59_482ae32b83dalevel0_row44\" class=\"row_heading level0 row44\" >44</th>\n",
       "                        <td id=\"T_b5182b1e_4207_11eb_bf59_482ae32b83darow44_col0\" class=\"data row44 col0\" >Polynomial Features</td>\n",
       "                        <td id=\"T_b5182b1e_4207_11eb_bf59_482ae32b83darow44_col1\" class=\"data row44 col1\" >False</td>\n",
       "            </tr>\n",
       "            <tr>\n",
       "                        <th id=\"T_b5182b1e_4207_11eb_bf59_482ae32b83dalevel0_row45\" class=\"row_heading level0 row45\" >45</th>\n",
       "                        <td id=\"T_b5182b1e_4207_11eb_bf59_482ae32b83darow45_col0\" class=\"data row45 col0\" >Polynomial Degree</td>\n",
       "                        <td id=\"T_b5182b1e_4207_11eb_bf59_482ae32b83darow45_col1\" class=\"data row45 col1\" >None</td>\n",
       "            </tr>\n",
       "            <tr>\n",
       "                        <th id=\"T_b5182b1e_4207_11eb_bf59_482ae32b83dalevel0_row46\" class=\"row_heading level0 row46\" >46</th>\n",
       "                        <td id=\"T_b5182b1e_4207_11eb_bf59_482ae32b83darow46_col0\" class=\"data row46 col0\" >Trignometry Features</td>\n",
       "                        <td id=\"T_b5182b1e_4207_11eb_bf59_482ae32b83darow46_col1\" class=\"data row46 col1\" >False</td>\n",
       "            </tr>\n",
       "            <tr>\n",
       "                        <th id=\"T_b5182b1e_4207_11eb_bf59_482ae32b83dalevel0_row47\" class=\"row_heading level0 row47\" >47</th>\n",
       "                        <td id=\"T_b5182b1e_4207_11eb_bf59_482ae32b83darow47_col0\" class=\"data row47 col0\" >Polynomial Threshold</td>\n",
       "                        <td id=\"T_b5182b1e_4207_11eb_bf59_482ae32b83darow47_col1\" class=\"data row47 col1\" >None</td>\n",
       "            </tr>\n",
       "            <tr>\n",
       "                        <th id=\"T_b5182b1e_4207_11eb_bf59_482ae32b83dalevel0_row48\" class=\"row_heading level0 row48\" >48</th>\n",
       "                        <td id=\"T_b5182b1e_4207_11eb_bf59_482ae32b83darow48_col0\" class=\"data row48 col0\" >Group Features</td>\n",
       "                        <td id=\"T_b5182b1e_4207_11eb_bf59_482ae32b83darow48_col1\" class=\"data row48 col1\" >False</td>\n",
       "            </tr>\n",
       "            <tr>\n",
       "                        <th id=\"T_b5182b1e_4207_11eb_bf59_482ae32b83dalevel0_row49\" class=\"row_heading level0 row49\" >49</th>\n",
       "                        <td id=\"T_b5182b1e_4207_11eb_bf59_482ae32b83darow49_col0\" class=\"data row49 col0\" >Feature Selection</td>\n",
       "                        <td id=\"T_b5182b1e_4207_11eb_bf59_482ae32b83darow49_col1\" class=\"data row49 col1\" >False</td>\n",
       "            </tr>\n",
       "            <tr>\n",
       "                        <th id=\"T_b5182b1e_4207_11eb_bf59_482ae32b83dalevel0_row50\" class=\"row_heading level0 row50\" >50</th>\n",
       "                        <td id=\"T_b5182b1e_4207_11eb_bf59_482ae32b83darow50_col0\" class=\"data row50 col0\" >Features Selection Threshold</td>\n",
       "                        <td id=\"T_b5182b1e_4207_11eb_bf59_482ae32b83darow50_col1\" class=\"data row50 col1\" >None</td>\n",
       "            </tr>\n",
       "            <tr>\n",
       "                        <th id=\"T_b5182b1e_4207_11eb_bf59_482ae32b83dalevel0_row51\" class=\"row_heading level0 row51\" >51</th>\n",
       "                        <td id=\"T_b5182b1e_4207_11eb_bf59_482ae32b83darow51_col0\" class=\"data row51 col0\" >Feature Interaction</td>\n",
       "                        <td id=\"T_b5182b1e_4207_11eb_bf59_482ae32b83darow51_col1\" class=\"data row51 col1\" >False</td>\n",
       "            </tr>\n",
       "            <tr>\n",
       "                        <th id=\"T_b5182b1e_4207_11eb_bf59_482ae32b83dalevel0_row52\" class=\"row_heading level0 row52\" >52</th>\n",
       "                        <td id=\"T_b5182b1e_4207_11eb_bf59_482ae32b83darow52_col0\" class=\"data row52 col0\" >Feature Ratio</td>\n",
       "                        <td id=\"T_b5182b1e_4207_11eb_bf59_482ae32b83darow52_col1\" class=\"data row52 col1\" >False</td>\n",
       "            </tr>\n",
       "            <tr>\n",
       "                        <th id=\"T_b5182b1e_4207_11eb_bf59_482ae32b83dalevel0_row53\" class=\"row_heading level0 row53\" >53</th>\n",
       "                        <td id=\"T_b5182b1e_4207_11eb_bf59_482ae32b83darow53_col0\" class=\"data row53 col0\" >Interaction Threshold</td>\n",
       "                        <td id=\"T_b5182b1e_4207_11eb_bf59_482ae32b83darow53_col1\" class=\"data row53 col1\" >None</td>\n",
       "            </tr>\n",
       "            <tr>\n",
       "                        <th id=\"T_b5182b1e_4207_11eb_bf59_482ae32b83dalevel0_row54\" class=\"row_heading level0 row54\" >54</th>\n",
       "                        <td id=\"T_b5182b1e_4207_11eb_bf59_482ae32b83darow54_col0\" class=\"data row54 col0\" >Transform Target</td>\n",
       "                        <td id=\"T_b5182b1e_4207_11eb_bf59_482ae32b83darow54_col1\" class=\"data row54 col1\" >False</td>\n",
       "            </tr>\n",
       "            <tr>\n",
       "                        <th id=\"T_b5182b1e_4207_11eb_bf59_482ae32b83dalevel0_row55\" class=\"row_heading level0 row55\" >55</th>\n",
       "                        <td id=\"T_b5182b1e_4207_11eb_bf59_482ae32b83darow55_col0\" class=\"data row55 col0\" >Transform Target Method</td>\n",
       "                        <td id=\"T_b5182b1e_4207_11eb_bf59_482ae32b83darow55_col1\" class=\"data row55 col1\" >box-cox</td>\n",
       "            </tr>\n",
       "    </tbody></table>"
      ],
      "text/plain": [
       "<pandas.io.formats.style.Styler at 0x216a3ce4788>"
      ]
     },
     "metadata": {},
     "output_type": "display_data"
    }
   ],
   "source": [
    "from pycaret.regression import *\n",
    "s = setup(data, target = 'charges')"
   ]
  },
  {
   "cell_type": "code",
   "execution_count": 6,
   "metadata": {},
   "outputs": [
    {
     "data": {
      "text/html": [
       "<style  type=\"text/css\" >\n",
       "    #T_bd384f40_4207_11eb_8663_482ae32b83darow10_col0 {\n",
       "            background:  yellow;\n",
       "        }    #T_bd384f40_4207_11eb_8663_482ae32b83darow10_col1 {\n",
       "            background:  yellow;\n",
       "        }    #T_bd384f40_4207_11eb_8663_482ae32b83darow10_col2 {\n",
       "            background:  yellow;\n",
       "        }    #T_bd384f40_4207_11eb_8663_482ae32b83darow10_col3 {\n",
       "            background:  yellow;\n",
       "        }    #T_bd384f40_4207_11eb_8663_482ae32b83darow10_col4 {\n",
       "            background:  yellow;\n",
       "        }    #T_bd384f40_4207_11eb_8663_482ae32b83darow10_col5 {\n",
       "            background:  yellow;\n",
       "        }</style><table id=\"T_bd384f40_4207_11eb_8663_482ae32b83da\" ><thead>    <tr>        <th class=\"blank level0\" ></th>        <th class=\"col_heading level0 col0\" >MAE</th>        <th class=\"col_heading level0 col1\" >MSE</th>        <th class=\"col_heading level0 col2\" >RMSE</th>        <th class=\"col_heading level0 col3\" >R2</th>        <th class=\"col_heading level0 col4\" >RMSLE</th>        <th class=\"col_heading level0 col5\" >MAPE</th>    </tr></thead><tbody>\n",
       "                <tr>\n",
       "                        <th id=\"T_bd384f40_4207_11eb_8663_482ae32b83dalevel0_row0\" class=\"row_heading level0 row0\" >0</th>\n",
       "                        <td id=\"T_bd384f40_4207_11eb_8663_482ae32b83darow0_col0\" class=\"data row0 col0\" >3288.9404</td>\n",
       "                        <td id=\"T_bd384f40_4207_11eb_8663_482ae32b83darow0_col1\" class=\"data row0 col1\" >31297046.0000</td>\n",
       "                        <td id=\"T_bd384f40_4207_11eb_8663_482ae32b83darow0_col2\" class=\"data row0 col2\" >5594.3765</td>\n",
       "                        <td id=\"T_bd384f40_4207_11eb_8663_482ae32b83darow0_col3\" class=\"data row0 col3\" >0.7473</td>\n",
       "                        <td id=\"T_bd384f40_4207_11eb_8663_482ae32b83darow0_col4\" class=\"data row0 col4\" >0.5630</td>\n",
       "                        <td id=\"T_bd384f40_4207_11eb_8663_482ae32b83darow0_col5\" class=\"data row0 col5\" >0.4904</td>\n",
       "            </tr>\n",
       "            <tr>\n",
       "                        <th id=\"T_bd384f40_4207_11eb_8663_482ae32b83dalevel0_row1\" class=\"row_heading level0 row1\" >1</th>\n",
       "                        <td id=\"T_bd384f40_4207_11eb_8663_482ae32b83darow1_col0\" class=\"data row1 col0\" >3409.2314</td>\n",
       "                        <td id=\"T_bd384f40_4207_11eb_8663_482ae32b83darow1_col1\" class=\"data row1 col1\" >38235900.0000</td>\n",
       "                        <td id=\"T_bd384f40_4207_11eb_8663_482ae32b83darow1_col2\" class=\"data row1 col2\" >6183.5186</td>\n",
       "                        <td id=\"T_bd384f40_4207_11eb_8663_482ae32b83darow1_col3\" class=\"data row1 col3\" >0.6637</td>\n",
       "                        <td id=\"T_bd384f40_4207_11eb_8663_482ae32b83darow1_col4\" class=\"data row1 col4\" >0.6401</td>\n",
       "                        <td id=\"T_bd384f40_4207_11eb_8663_482ae32b83darow1_col5\" class=\"data row1 col5\" >0.3781</td>\n",
       "            </tr>\n",
       "            <tr>\n",
       "                        <th id=\"T_bd384f40_4207_11eb_8663_482ae32b83dalevel0_row2\" class=\"row_heading level0 row2\" >2</th>\n",
       "                        <td id=\"T_bd384f40_4207_11eb_8663_482ae32b83darow2_col0\" class=\"data row2 col0\" >2638.9138</td>\n",
       "                        <td id=\"T_bd384f40_4207_11eb_8663_482ae32b83darow2_col1\" class=\"data row2 col1\" >21052824.0000</td>\n",
       "                        <td id=\"T_bd384f40_4207_11eb_8663_482ae32b83darow2_col2\" class=\"data row2 col2\" >4588.3354</td>\n",
       "                        <td id=\"T_bd384f40_4207_11eb_8663_482ae32b83darow2_col3\" class=\"data row2 col3\" >0.8296</td>\n",
       "                        <td id=\"T_bd384f40_4207_11eb_8663_482ae32b83darow2_col4\" class=\"data row2 col4\" >0.4666</td>\n",
       "                        <td id=\"T_bd384f40_4207_11eb_8663_482ae32b83darow2_col5\" class=\"data row2 col5\" >0.3524</td>\n",
       "            </tr>\n",
       "            <tr>\n",
       "                        <th id=\"T_bd384f40_4207_11eb_8663_482ae32b83dalevel0_row3\" class=\"row_heading level0 row3\" >3</th>\n",
       "                        <td id=\"T_bd384f40_4207_11eb_8663_482ae32b83darow3_col0\" class=\"data row3 col0\" >3431.4575</td>\n",
       "                        <td id=\"T_bd384f40_4207_11eb_8663_482ae32b83darow3_col1\" class=\"data row3 col1\" >40667648.0000</td>\n",
       "                        <td id=\"T_bd384f40_4207_11eb_8663_482ae32b83darow3_col2\" class=\"data row3 col2\" >6377.1191</td>\n",
       "                        <td id=\"T_bd384f40_4207_11eb_8663_482ae32b83darow3_col3\" class=\"data row3 col3\" >0.7308</td>\n",
       "                        <td id=\"T_bd384f40_4207_11eb_8663_482ae32b83darow3_col4\" class=\"data row3 col4\" >0.6665</td>\n",
       "                        <td id=\"T_bd384f40_4207_11eb_8663_482ae32b83darow3_col5\" class=\"data row3 col5\" >0.2971</td>\n",
       "            </tr>\n",
       "            <tr>\n",
       "                        <th id=\"T_bd384f40_4207_11eb_8663_482ae32b83dalevel0_row4\" class=\"row_heading level0 row4\" >4</th>\n",
       "                        <td id=\"T_bd384f40_4207_11eb_8663_482ae32b83darow4_col0\" class=\"data row4 col0\" >2835.1184</td>\n",
       "                        <td id=\"T_bd384f40_4207_11eb_8663_482ae32b83darow4_col1\" class=\"data row4 col1\" >23426590.0000</td>\n",
       "                        <td id=\"T_bd384f40_4207_11eb_8663_482ae32b83darow4_col2\" class=\"data row4 col2\" >4840.1021</td>\n",
       "                        <td id=\"T_bd384f40_4207_11eb_8663_482ae32b83darow4_col3\" class=\"data row4 col3\" >0.8579</td>\n",
       "                        <td id=\"T_bd384f40_4207_11eb_8663_482ae32b83darow4_col4\" class=\"data row4 col4\" >0.5114</td>\n",
       "                        <td id=\"T_bd384f40_4207_11eb_8663_482ae32b83darow4_col5\" class=\"data row4 col5\" >0.3838</td>\n",
       "            </tr>\n",
       "            <tr>\n",
       "                        <th id=\"T_bd384f40_4207_11eb_8663_482ae32b83dalevel0_row5\" class=\"row_heading level0 row5\" >5</th>\n",
       "                        <td id=\"T_bd384f40_4207_11eb_8663_482ae32b83darow5_col0\" class=\"data row5 col0\" >2365.5654</td>\n",
       "                        <td id=\"T_bd384f40_4207_11eb_8663_482ae32b83darow5_col1\" class=\"data row5 col1\" >13660059.0000</td>\n",
       "                        <td id=\"T_bd384f40_4207_11eb_8663_482ae32b83darow5_col2\" class=\"data row5 col2\" >3695.9517</td>\n",
       "                        <td id=\"T_bd384f40_4207_11eb_8663_482ae32b83darow5_col3\" class=\"data row5 col3\" >0.9122</td>\n",
       "                        <td id=\"T_bd384f40_4207_11eb_8663_482ae32b83darow5_col4\" class=\"data row5 col4\" >0.4637</td>\n",
       "                        <td id=\"T_bd384f40_4207_11eb_8663_482ae32b83darow5_col5\" class=\"data row5 col5\" >0.3355</td>\n",
       "            </tr>\n",
       "            <tr>\n",
       "                        <th id=\"T_bd384f40_4207_11eb_8663_482ae32b83dalevel0_row6\" class=\"row_heading level0 row6\" >6</th>\n",
       "                        <td id=\"T_bd384f40_4207_11eb_8663_482ae32b83darow6_col0\" class=\"data row6 col0\" >3083.2061</td>\n",
       "                        <td id=\"T_bd384f40_4207_11eb_8663_482ae32b83darow6_col1\" class=\"data row6 col1\" >27865276.0000</td>\n",
       "                        <td id=\"T_bd384f40_4207_11eb_8663_482ae32b83darow6_col2\" class=\"data row6 col2\" >5278.7568</td>\n",
       "                        <td id=\"T_bd384f40_4207_11eb_8663_482ae32b83darow6_col3\" class=\"data row6 col3\" >0.8246</td>\n",
       "                        <td id=\"T_bd384f40_4207_11eb_8663_482ae32b83darow6_col4\" class=\"data row6 col4\" >0.5037</td>\n",
       "                        <td id=\"T_bd384f40_4207_11eb_8663_482ae32b83darow6_col5\" class=\"data row6 col5\" >0.4382</td>\n",
       "            </tr>\n",
       "            <tr>\n",
       "                        <th id=\"T_bd384f40_4207_11eb_8663_482ae32b83dalevel0_row7\" class=\"row_heading level0 row7\" >7</th>\n",
       "                        <td id=\"T_bd384f40_4207_11eb_8663_482ae32b83darow7_col0\" class=\"data row7 col0\" >3601.3025</td>\n",
       "                        <td id=\"T_bd384f40_4207_11eb_8663_482ae32b83darow7_col1\" class=\"data row7 col1\" >32870870.0000</td>\n",
       "                        <td id=\"T_bd384f40_4207_11eb_8663_482ae32b83darow7_col2\" class=\"data row7 col2\" >5733.3125</td>\n",
       "                        <td id=\"T_bd384f40_4207_11eb_8663_482ae32b83darow7_col3\" class=\"data row7 col3\" >0.7651</td>\n",
       "                        <td id=\"T_bd384f40_4207_11eb_8663_482ae32b83darow7_col4\" class=\"data row7 col4\" >0.5510</td>\n",
       "                        <td id=\"T_bd384f40_4207_11eb_8663_482ae32b83darow7_col5\" class=\"data row7 col5\" >0.3998</td>\n",
       "            </tr>\n",
       "            <tr>\n",
       "                        <th id=\"T_bd384f40_4207_11eb_8663_482ae32b83dalevel0_row8\" class=\"row_heading level0 row8\" >8</th>\n",
       "                        <td id=\"T_bd384f40_4207_11eb_8663_482ae32b83darow8_col0\" class=\"data row8 col0\" >3267.8333</td>\n",
       "                        <td id=\"T_bd384f40_4207_11eb_8663_482ae32b83darow8_col1\" class=\"data row8 col1\" >26634694.0000</td>\n",
       "                        <td id=\"T_bd384f40_4207_11eb_8663_482ae32b83darow8_col2\" class=\"data row8 col2\" >5160.8813</td>\n",
       "                        <td id=\"T_bd384f40_4207_11eb_8663_482ae32b83darow8_col3\" class=\"data row8 col3\" >0.7581</td>\n",
       "                        <td id=\"T_bd384f40_4207_11eb_8663_482ae32b83darow8_col4\" class=\"data row8 col4\" >0.6443</td>\n",
       "                        <td id=\"T_bd384f40_4207_11eb_8663_482ae32b83darow8_col5\" class=\"data row8 col5\" >0.5177</td>\n",
       "            </tr>\n",
       "            <tr>\n",
       "                        <th id=\"T_bd384f40_4207_11eb_8663_482ae32b83dalevel0_row9\" class=\"row_heading level0 row9\" >9</th>\n",
       "                        <td id=\"T_bd384f40_4207_11eb_8663_482ae32b83darow9_col0\" class=\"data row9 col0\" >3044.7090</td>\n",
       "                        <td id=\"T_bd384f40_4207_11eb_8663_482ae32b83darow9_col1\" class=\"data row9 col1\" >26257830.0000</td>\n",
       "                        <td id=\"T_bd384f40_4207_11eb_8663_482ae32b83darow9_col2\" class=\"data row9 col2\" >5124.2393</td>\n",
       "                        <td id=\"T_bd384f40_4207_11eb_8663_482ae32b83darow9_col3\" class=\"data row9 col3\" >0.8268</td>\n",
       "                        <td id=\"T_bd384f40_4207_11eb_8663_482ae32b83darow9_col4\" class=\"data row9 col4\" >0.4947</td>\n",
       "                        <td id=\"T_bd384f40_4207_11eb_8663_482ae32b83darow9_col5\" class=\"data row9 col5\" >0.4044</td>\n",
       "            </tr>\n",
       "            <tr>\n",
       "                        <th id=\"T_bd384f40_4207_11eb_8663_482ae32b83dalevel0_row10\" class=\"row_heading level0 row10\" >Mean</th>\n",
       "                        <td id=\"T_bd384f40_4207_11eb_8663_482ae32b83darow10_col0\" class=\"data row10 col0\" >3096.6278</td>\n",
       "                        <td id=\"T_bd384f40_4207_11eb_8663_482ae32b83darow10_col1\" class=\"data row10 col1\" >28196873.7000</td>\n",
       "                        <td id=\"T_bd384f40_4207_11eb_8663_482ae32b83darow10_col2\" class=\"data row10 col2\" >5257.6593</td>\n",
       "                        <td id=\"T_bd384f40_4207_11eb_8663_482ae32b83darow10_col3\" class=\"data row10 col3\" >0.7916</td>\n",
       "                        <td id=\"T_bd384f40_4207_11eb_8663_482ae32b83darow10_col4\" class=\"data row10 col4\" >0.5505</td>\n",
       "                        <td id=\"T_bd384f40_4207_11eb_8663_482ae32b83darow10_col5\" class=\"data row10 col5\" >0.3997</td>\n",
       "            </tr>\n",
       "            <tr>\n",
       "                        <th id=\"T_bd384f40_4207_11eb_8663_482ae32b83dalevel0_row11\" class=\"row_heading level0 row11\" >SD</th>\n",
       "                        <td id=\"T_bd384f40_4207_11eb_8663_482ae32b83darow11_col0\" class=\"data row11 col0\" >366.8843</td>\n",
       "                        <td id=\"T_bd384f40_4207_11eb_8663_482ae32b83darow11_col1\" class=\"data row11 col1\" >7610399.8425</td>\n",
       "                        <td id=\"T_bd384f40_4207_11eb_8663_482ae32b83darow11_col2\" class=\"data row11 col2\" >744.2393</td>\n",
       "                        <td id=\"T_bd384f40_4207_11eb_8663_482ae32b83darow11_col3\" class=\"data row11 col3\" >0.0682</td>\n",
       "                        <td id=\"T_bd384f40_4207_11eb_8663_482ae32b83darow11_col4\" class=\"data row11 col4\" >0.0720</td>\n",
       "                        <td id=\"T_bd384f40_4207_11eb_8663_482ae32b83darow11_col5\" class=\"data row11 col5\" >0.0642</td>\n",
       "            </tr>\n",
       "    </tbody></table>"
      ],
      "text/plain": [
       "<pandas.io.formats.style.Styler at 0x216bfa3bdc8>"
      ]
     },
     "metadata": {},
     "output_type": "display_data"
    }
   ],
   "source": [
    "xgboost = create_model('xgboost')"
   ]
  },
  {
   "cell_type": "code",
   "execution_count": 7,
   "metadata": {},
   "outputs": [
    {
     "name": "stdout",
     "output_type": "stream",
     "text": [
      "Transformation Pipeline and Model Succesfully Saved\n"
     ]
    },
    {
     "data": {
      "text/plain": [
       "(Pipeline(memory=None,\n",
       "          steps=[('dtypes',\n",
       "                  DataTypes_Auto_infer(categorical_features=[],\n",
       "                                       display_types=True, features_todrop=[],\n",
       "                                       id_columns=[], ml_usecase='regression',\n",
       "                                       numerical_features=[], target='charges',\n",
       "                                       time_features=[])),\n",
       "                 ('imputer',\n",
       "                  Simple_Imputer(categorical_strategy='not_available',\n",
       "                                 fill_value_categorical=None,\n",
       "                                 fill_value_numerical=None,\n",
       "                                 numeric_strategy...\n",
       "                               interaction_constraints='',\n",
       "                               learning_rate=0.300000012, max_delta_step=0,\n",
       "                               max_depth=6, min_child_weight=1, missing=nan,\n",
       "                               monotone_constraints='()', n_estimators=100,\n",
       "                               n_jobs=-1, num_parallel_tree=1,\n",
       "                               objective='reg:squarederror', random_state=3372,\n",
       "                               reg_alpha=0, reg_lambda=1, scale_pos_weight=1,\n",
       "                               subsample=1, tree_method='auto',\n",
       "                               validate_parameters=1, verbosity=0)]],\n",
       "          verbose=False), 'final-model.pkl')"
      ]
     },
     "execution_count": 7,
     "metadata": {},
     "output_type": "execute_result"
    }
   ],
   "source": [
    "save_model(xgboost, 'final-model')"
   ]
  },
  {
   "cell_type": "code",
   "execution_count": 38,
   "metadata": {},
   "outputs": [
    {
     "ename": "JSONDecodeError",
     "evalue": "Expecting value: line 1 column 1 (char 0)",
     "output_type": "error",
     "traceback": [
      "\u001b[1;31m---------------------------------------------------------------------------\u001b[0m",
      "\u001b[1;31mJSONDecodeError\u001b[0m                           Traceback (most recent call last)",
      "\u001b[1;32m<ipython-input-38-868031b9e831>\u001b[0m in \u001b[0;36m<module>\u001b[1;34m\u001b[0m\n\u001b[0;32m      2\u001b[0m \u001b[0murl\u001b[0m \u001b[1;33m=\u001b[0m \u001b[1;34m'http://localhost:1234/predict_api'\u001b[0m\u001b[1;33m\u001b[0m\u001b[1;33m\u001b[0m\u001b[0m\n\u001b[0;32m      3\u001b[0m \u001b[0mpred\u001b[0m \u001b[1;33m=\u001b[0m \u001b[0mrequests\u001b[0m\u001b[1;33m.\u001b[0m\u001b[0mpost\u001b[0m\u001b[1;33m(\u001b[0m\u001b[0murl\u001b[0m\u001b[1;33m,\u001b[0m\u001b[0mjson\u001b[0m\u001b[1;33m=\u001b[0m\u001b[1;33m{\u001b[0m\u001b[1;34m'age'\u001b[0m\u001b[1;33m:\u001b[0m\u001b[1;36m23\u001b[0m\u001b[1;33m,\u001b[0m \u001b[1;34m'sex'\u001b[0m\u001b[1;33m:\u001b[0m\u001b[1;34m'male'\u001b[0m\u001b[1;33m,\u001b[0m \u001b[1;34m'bmi'\u001b[0m\u001b[1;33m:\u001b[0m\u001b[1;36m12\u001b[0m\u001b[1;33m,\u001b[0m \u001b[1;34m'children'\u001b[0m\u001b[1;33m:\u001b[0m\u001b[1;36m2\u001b[0m\u001b[1;33m,\u001b[0m \u001b[1;34m'smoker'\u001b[0m\u001b[1;33m:\u001b[0m\u001b[1;34m'yes'\u001b[0m\u001b[1;33m,\u001b[0m \u001b[1;34m'region'\u001b[0m\u001b[1;33m:\u001b[0m\u001b[1;34m'northwest'\u001b[0m\u001b[1;33m}\u001b[0m\u001b[1;33m)\u001b[0m\u001b[1;33m\u001b[0m\u001b[1;33m\u001b[0m\u001b[0m\n\u001b[1;32m----> 4\u001b[1;33m \u001b[0mprint\u001b[0m\u001b[1;33m(\u001b[0m\u001b[0mpred\u001b[0m\u001b[1;33m.\u001b[0m\u001b[0mjson\u001b[0m\u001b[1;33m(\u001b[0m\u001b[1;33m)\u001b[0m\u001b[1;33m)\u001b[0m\u001b[1;33m\u001b[0m\u001b[1;33m\u001b[0m\u001b[0m\n\u001b[0m",
      "\u001b[1;32m~\\Anaconda3\\lib\\site-packages\\requests\\models.py\u001b[0m in \u001b[0;36mjson\u001b[1;34m(self, **kwargs)\u001b[0m\n\u001b[0;32m    896\u001b[0m                     \u001b[1;31m# used.\u001b[0m\u001b[1;33m\u001b[0m\u001b[1;33m\u001b[0m\u001b[1;33m\u001b[0m\u001b[0m\n\u001b[0;32m    897\u001b[0m                     \u001b[1;32mpass\u001b[0m\u001b[1;33m\u001b[0m\u001b[1;33m\u001b[0m\u001b[0m\n\u001b[1;32m--> 898\u001b[1;33m         \u001b[1;32mreturn\u001b[0m \u001b[0mcomplexjson\u001b[0m\u001b[1;33m.\u001b[0m\u001b[0mloads\u001b[0m\u001b[1;33m(\u001b[0m\u001b[0mself\u001b[0m\u001b[1;33m.\u001b[0m\u001b[0mtext\u001b[0m\u001b[1;33m,\u001b[0m \u001b[1;33m**\u001b[0m\u001b[0mkwargs\u001b[0m\u001b[1;33m)\u001b[0m\u001b[1;33m\u001b[0m\u001b[1;33m\u001b[0m\u001b[0m\n\u001b[0m\u001b[0;32m    899\u001b[0m \u001b[1;33m\u001b[0m\u001b[0m\n\u001b[0;32m    900\u001b[0m     \u001b[1;33m@\u001b[0m\u001b[0mproperty\u001b[0m\u001b[1;33m\u001b[0m\u001b[1;33m\u001b[0m\u001b[0m\n",
      "\u001b[1;32m~\\Anaconda3\\lib\\site-packages\\simplejson\\__init__.py\u001b[0m in \u001b[0;36mloads\u001b[1;34m(s, encoding, cls, object_hook, parse_float, parse_int, parse_constant, object_pairs_hook, use_decimal, **kw)\u001b[0m\n\u001b[0;32m    523\u001b[0m             \u001b[0mparse_constant\u001b[0m \u001b[1;32mis\u001b[0m \u001b[1;32mNone\u001b[0m \u001b[1;32mand\u001b[0m \u001b[0mobject_pairs_hook\u001b[0m \u001b[1;32mis\u001b[0m \u001b[1;32mNone\u001b[0m\u001b[1;33m\u001b[0m\u001b[1;33m\u001b[0m\u001b[0m\n\u001b[0;32m    524\u001b[0m             and not use_decimal and not kw):\n\u001b[1;32m--> 525\u001b[1;33m         \u001b[1;32mreturn\u001b[0m \u001b[0m_default_decoder\u001b[0m\u001b[1;33m.\u001b[0m\u001b[0mdecode\u001b[0m\u001b[1;33m(\u001b[0m\u001b[0ms\u001b[0m\u001b[1;33m)\u001b[0m\u001b[1;33m\u001b[0m\u001b[1;33m\u001b[0m\u001b[0m\n\u001b[0m\u001b[0;32m    526\u001b[0m     \u001b[1;32mif\u001b[0m \u001b[0mcls\u001b[0m \u001b[1;32mis\u001b[0m \u001b[1;32mNone\u001b[0m\u001b[1;33m:\u001b[0m\u001b[1;33m\u001b[0m\u001b[1;33m\u001b[0m\u001b[0m\n\u001b[0;32m    527\u001b[0m         \u001b[0mcls\u001b[0m \u001b[1;33m=\u001b[0m \u001b[0mJSONDecoder\u001b[0m\u001b[1;33m\u001b[0m\u001b[1;33m\u001b[0m\u001b[0m\n",
      "\u001b[1;32m~\\Anaconda3\\lib\\site-packages\\simplejson\\decoder.py\u001b[0m in \u001b[0;36mdecode\u001b[1;34m(self, s, _w, _PY3)\u001b[0m\n\u001b[0;32m    368\u001b[0m         \u001b[1;32mif\u001b[0m \u001b[0m_PY3\u001b[0m \u001b[1;32mand\u001b[0m \u001b[0misinstance\u001b[0m\u001b[1;33m(\u001b[0m\u001b[0ms\u001b[0m\u001b[1;33m,\u001b[0m \u001b[0mbytes\u001b[0m\u001b[1;33m)\u001b[0m\u001b[1;33m:\u001b[0m\u001b[1;33m\u001b[0m\u001b[1;33m\u001b[0m\u001b[0m\n\u001b[0;32m    369\u001b[0m             \u001b[0ms\u001b[0m \u001b[1;33m=\u001b[0m \u001b[0mstr\u001b[0m\u001b[1;33m(\u001b[0m\u001b[0ms\u001b[0m\u001b[1;33m,\u001b[0m \u001b[0mself\u001b[0m\u001b[1;33m.\u001b[0m\u001b[0mencoding\u001b[0m\u001b[1;33m)\u001b[0m\u001b[1;33m\u001b[0m\u001b[1;33m\u001b[0m\u001b[0m\n\u001b[1;32m--> 370\u001b[1;33m         \u001b[0mobj\u001b[0m\u001b[1;33m,\u001b[0m \u001b[0mend\u001b[0m \u001b[1;33m=\u001b[0m \u001b[0mself\u001b[0m\u001b[1;33m.\u001b[0m\u001b[0mraw_decode\u001b[0m\u001b[1;33m(\u001b[0m\u001b[0ms\u001b[0m\u001b[1;33m)\u001b[0m\u001b[1;33m\u001b[0m\u001b[1;33m\u001b[0m\u001b[0m\n\u001b[0m\u001b[0;32m    371\u001b[0m         \u001b[0mend\u001b[0m \u001b[1;33m=\u001b[0m \u001b[0m_w\u001b[0m\u001b[1;33m(\u001b[0m\u001b[0ms\u001b[0m\u001b[1;33m,\u001b[0m \u001b[0mend\u001b[0m\u001b[1;33m)\u001b[0m\u001b[1;33m.\u001b[0m\u001b[0mend\u001b[0m\u001b[1;33m(\u001b[0m\u001b[1;33m)\u001b[0m\u001b[1;33m\u001b[0m\u001b[1;33m\u001b[0m\u001b[0m\n\u001b[0;32m    372\u001b[0m         \u001b[1;32mif\u001b[0m \u001b[0mend\u001b[0m \u001b[1;33m!=\u001b[0m \u001b[0mlen\u001b[0m\u001b[1;33m(\u001b[0m\u001b[0ms\u001b[0m\u001b[1;33m)\u001b[0m\u001b[1;33m:\u001b[0m\u001b[1;33m\u001b[0m\u001b[1;33m\u001b[0m\u001b[0m\n",
      "\u001b[1;32m~\\Anaconda3\\lib\\site-packages\\simplejson\\decoder.py\u001b[0m in \u001b[0;36mraw_decode\u001b[1;34m(self, s, idx, _w, _PY3)\u001b[0m\n\u001b[0;32m    398\u001b[0m             \u001b[1;32melif\u001b[0m \u001b[0mord0\u001b[0m \u001b[1;33m==\u001b[0m \u001b[1;36m0xef\u001b[0m \u001b[1;32mand\u001b[0m \u001b[0ms\u001b[0m\u001b[1;33m[\u001b[0m\u001b[0midx\u001b[0m\u001b[1;33m:\u001b[0m\u001b[0midx\u001b[0m \u001b[1;33m+\u001b[0m \u001b[1;36m3\u001b[0m\u001b[1;33m]\u001b[0m \u001b[1;33m==\u001b[0m \u001b[1;34m'\\xef\\xbb\\xbf'\u001b[0m\u001b[1;33m:\u001b[0m\u001b[1;33m\u001b[0m\u001b[1;33m\u001b[0m\u001b[0m\n\u001b[0;32m    399\u001b[0m                 \u001b[0midx\u001b[0m \u001b[1;33m+=\u001b[0m \u001b[1;36m3\u001b[0m\u001b[1;33m\u001b[0m\u001b[1;33m\u001b[0m\u001b[0m\n\u001b[1;32m--> 400\u001b[1;33m         \u001b[1;32mreturn\u001b[0m \u001b[0mself\u001b[0m\u001b[1;33m.\u001b[0m\u001b[0mscan_once\u001b[0m\u001b[1;33m(\u001b[0m\u001b[0ms\u001b[0m\u001b[1;33m,\u001b[0m \u001b[0midx\u001b[0m\u001b[1;33m=\u001b[0m\u001b[0m_w\u001b[0m\u001b[1;33m(\u001b[0m\u001b[0ms\u001b[0m\u001b[1;33m,\u001b[0m \u001b[0midx\u001b[0m\u001b[1;33m)\u001b[0m\u001b[1;33m.\u001b[0m\u001b[0mend\u001b[0m\u001b[1;33m(\u001b[0m\u001b[1;33m)\u001b[0m\u001b[1;33m)\u001b[0m\u001b[1;33m\u001b[0m\u001b[1;33m\u001b[0m\u001b[0m\n\u001b[0m",
      "\u001b[1;31mJSONDecodeError\u001b[0m: Expecting value: line 1 column 1 (char 0)"
     ]
    }
   ],
   "source": [
    "import requests\n",
    "url = 'http://localhost:1234/predict_api'\n",
    "pred = requests.post(url,json={'age':23, 'sex':'male', 'bmi':12, 'children':2, 'smoker':'yes', 'region':'northwest'})\n",
    "print(pred.json())"
   ]
  },
  {
   "cell_type": "code",
   "execution_count": 23,
   "metadata": {},
   "outputs": [
    {
     "ename": "JSONDecodeError",
     "evalue": "Expecting value: line 1 column 1 (char 0)",
     "output_type": "error",
     "traceback": [
      "\u001b[1;31m---------------------------------------------------------------------------\u001b[0m",
      "\u001b[1;31mJSONDecodeError\u001b[0m                           Traceback (most recent call last)",
      "\u001b[1;32m<ipython-input-23-596af7a5b2b7>\u001b[0m in \u001b[0;36m<module>\u001b[1;34m\u001b[0m\n\u001b[1;32m----> 1\u001b[1;33m \u001b[0mpred\u001b[0m\u001b[1;33m.\u001b[0m\u001b[0mjson\u001b[0m\u001b[1;33m(\u001b[0m\u001b[1;33m)\u001b[0m\u001b[1;33m.\u001b[0m\u001b[0mastype\u001b[0m\u001b[1;33m(\u001b[0m\u001b[1;34m'float64'\u001b[0m\u001b[1;33m)\u001b[0m\u001b[1;33m\u001b[0m\u001b[1;33m\u001b[0m\u001b[0m\n\u001b[0m",
      "\u001b[1;32m~\\Anaconda3\\lib\\site-packages\\requests\\models.py\u001b[0m in \u001b[0;36mjson\u001b[1;34m(self, **kwargs)\u001b[0m\n\u001b[0;32m    896\u001b[0m                     \u001b[1;31m# used.\u001b[0m\u001b[1;33m\u001b[0m\u001b[1;33m\u001b[0m\u001b[1;33m\u001b[0m\u001b[0m\n\u001b[0;32m    897\u001b[0m                     \u001b[1;32mpass\u001b[0m\u001b[1;33m\u001b[0m\u001b[1;33m\u001b[0m\u001b[0m\n\u001b[1;32m--> 898\u001b[1;33m         \u001b[1;32mreturn\u001b[0m \u001b[0mcomplexjson\u001b[0m\u001b[1;33m.\u001b[0m\u001b[0mloads\u001b[0m\u001b[1;33m(\u001b[0m\u001b[0mself\u001b[0m\u001b[1;33m.\u001b[0m\u001b[0mtext\u001b[0m\u001b[1;33m,\u001b[0m \u001b[1;33m**\u001b[0m\u001b[0mkwargs\u001b[0m\u001b[1;33m)\u001b[0m\u001b[1;33m\u001b[0m\u001b[1;33m\u001b[0m\u001b[0m\n\u001b[0m\u001b[0;32m    899\u001b[0m \u001b[1;33m\u001b[0m\u001b[0m\n\u001b[0;32m    900\u001b[0m     \u001b[1;33m@\u001b[0m\u001b[0mproperty\u001b[0m\u001b[1;33m\u001b[0m\u001b[1;33m\u001b[0m\u001b[0m\n",
      "\u001b[1;32m~\\Anaconda3\\lib\\site-packages\\simplejson\\__init__.py\u001b[0m in \u001b[0;36mloads\u001b[1;34m(s, encoding, cls, object_hook, parse_float, parse_int, parse_constant, object_pairs_hook, use_decimal, **kw)\u001b[0m\n\u001b[0;32m    523\u001b[0m             \u001b[0mparse_constant\u001b[0m \u001b[1;32mis\u001b[0m \u001b[1;32mNone\u001b[0m \u001b[1;32mand\u001b[0m \u001b[0mobject_pairs_hook\u001b[0m \u001b[1;32mis\u001b[0m \u001b[1;32mNone\u001b[0m\u001b[1;33m\u001b[0m\u001b[1;33m\u001b[0m\u001b[0m\n\u001b[0;32m    524\u001b[0m             and not use_decimal and not kw):\n\u001b[1;32m--> 525\u001b[1;33m         \u001b[1;32mreturn\u001b[0m \u001b[0m_default_decoder\u001b[0m\u001b[1;33m.\u001b[0m\u001b[0mdecode\u001b[0m\u001b[1;33m(\u001b[0m\u001b[0ms\u001b[0m\u001b[1;33m)\u001b[0m\u001b[1;33m\u001b[0m\u001b[1;33m\u001b[0m\u001b[0m\n\u001b[0m\u001b[0;32m    526\u001b[0m     \u001b[1;32mif\u001b[0m \u001b[0mcls\u001b[0m \u001b[1;32mis\u001b[0m \u001b[1;32mNone\u001b[0m\u001b[1;33m:\u001b[0m\u001b[1;33m\u001b[0m\u001b[1;33m\u001b[0m\u001b[0m\n\u001b[0;32m    527\u001b[0m         \u001b[0mcls\u001b[0m \u001b[1;33m=\u001b[0m \u001b[0mJSONDecoder\u001b[0m\u001b[1;33m\u001b[0m\u001b[1;33m\u001b[0m\u001b[0m\n",
      "\u001b[1;32m~\\Anaconda3\\lib\\site-packages\\simplejson\\decoder.py\u001b[0m in \u001b[0;36mdecode\u001b[1;34m(self, s, _w, _PY3)\u001b[0m\n\u001b[0;32m    368\u001b[0m         \u001b[1;32mif\u001b[0m \u001b[0m_PY3\u001b[0m \u001b[1;32mand\u001b[0m \u001b[0misinstance\u001b[0m\u001b[1;33m(\u001b[0m\u001b[0ms\u001b[0m\u001b[1;33m,\u001b[0m \u001b[0mbytes\u001b[0m\u001b[1;33m)\u001b[0m\u001b[1;33m:\u001b[0m\u001b[1;33m\u001b[0m\u001b[1;33m\u001b[0m\u001b[0m\n\u001b[0;32m    369\u001b[0m             \u001b[0ms\u001b[0m \u001b[1;33m=\u001b[0m \u001b[0mstr\u001b[0m\u001b[1;33m(\u001b[0m\u001b[0ms\u001b[0m\u001b[1;33m,\u001b[0m \u001b[0mself\u001b[0m\u001b[1;33m.\u001b[0m\u001b[0mencoding\u001b[0m\u001b[1;33m)\u001b[0m\u001b[1;33m\u001b[0m\u001b[1;33m\u001b[0m\u001b[0m\n\u001b[1;32m--> 370\u001b[1;33m         \u001b[0mobj\u001b[0m\u001b[1;33m,\u001b[0m \u001b[0mend\u001b[0m \u001b[1;33m=\u001b[0m \u001b[0mself\u001b[0m\u001b[1;33m.\u001b[0m\u001b[0mraw_decode\u001b[0m\u001b[1;33m(\u001b[0m\u001b[0ms\u001b[0m\u001b[1;33m)\u001b[0m\u001b[1;33m\u001b[0m\u001b[1;33m\u001b[0m\u001b[0m\n\u001b[0m\u001b[0;32m    371\u001b[0m         \u001b[0mend\u001b[0m \u001b[1;33m=\u001b[0m \u001b[0m_w\u001b[0m\u001b[1;33m(\u001b[0m\u001b[0ms\u001b[0m\u001b[1;33m,\u001b[0m \u001b[0mend\u001b[0m\u001b[1;33m)\u001b[0m\u001b[1;33m.\u001b[0m\u001b[0mend\u001b[0m\u001b[1;33m(\u001b[0m\u001b[1;33m)\u001b[0m\u001b[1;33m\u001b[0m\u001b[1;33m\u001b[0m\u001b[0m\n\u001b[0;32m    372\u001b[0m         \u001b[1;32mif\u001b[0m \u001b[0mend\u001b[0m \u001b[1;33m!=\u001b[0m \u001b[0mlen\u001b[0m\u001b[1;33m(\u001b[0m\u001b[0ms\u001b[0m\u001b[1;33m)\u001b[0m\u001b[1;33m:\u001b[0m\u001b[1;33m\u001b[0m\u001b[1;33m\u001b[0m\u001b[0m\n",
      "\u001b[1;32m~\\Anaconda3\\lib\\site-packages\\simplejson\\decoder.py\u001b[0m in \u001b[0;36mraw_decode\u001b[1;34m(self, s, idx, _w, _PY3)\u001b[0m\n\u001b[0;32m    398\u001b[0m             \u001b[1;32melif\u001b[0m \u001b[0mord0\u001b[0m \u001b[1;33m==\u001b[0m \u001b[1;36m0xef\u001b[0m \u001b[1;32mand\u001b[0m \u001b[0ms\u001b[0m\u001b[1;33m[\u001b[0m\u001b[0midx\u001b[0m\u001b[1;33m:\u001b[0m\u001b[0midx\u001b[0m \u001b[1;33m+\u001b[0m \u001b[1;36m3\u001b[0m\u001b[1;33m]\u001b[0m \u001b[1;33m==\u001b[0m \u001b[1;34m'\\xef\\xbb\\xbf'\u001b[0m\u001b[1;33m:\u001b[0m\u001b[1;33m\u001b[0m\u001b[1;33m\u001b[0m\u001b[0m\n\u001b[0;32m    399\u001b[0m                 \u001b[0midx\u001b[0m \u001b[1;33m+=\u001b[0m \u001b[1;36m3\u001b[0m\u001b[1;33m\u001b[0m\u001b[1;33m\u001b[0m\u001b[0m\n\u001b[1;32m--> 400\u001b[1;33m         \u001b[1;32mreturn\u001b[0m \u001b[0mself\u001b[0m\u001b[1;33m.\u001b[0m\u001b[0mscan_once\u001b[0m\u001b[1;33m(\u001b[0m\u001b[0ms\u001b[0m\u001b[1;33m,\u001b[0m \u001b[0midx\u001b[0m\u001b[1;33m=\u001b[0m\u001b[0m_w\u001b[0m\u001b[1;33m(\u001b[0m\u001b[0ms\u001b[0m\u001b[1;33m,\u001b[0m \u001b[0midx\u001b[0m\u001b[1;33m)\u001b[0m\u001b[1;33m.\u001b[0m\u001b[0mend\u001b[0m\u001b[1;33m(\u001b[0m\u001b[1;33m)\u001b[0m\u001b[1;33m)\u001b[0m\u001b[1;33m\u001b[0m\u001b[1;33m\u001b[0m\u001b[0m\n\u001b[0m",
      "\u001b[1;31mJSONDecodeError\u001b[0m: Expecting value: line 1 column 1 (char 0)"
     ]
    }
   ],
   "source": [
    "pred.json()"
   ]
  },
  {
   "cell_type": "code",
   "execution_count": 25,
   "metadata": {},
   "outputs": [
    {
     "data": {
      "text/plain": [
       "{'Content-Type': 'text/html; charset=utf-8', 'X-XSS-Protection': '0', 'Connection': 'close', 'Server': 'Werkzeug/1.0.1 Python/3.7.4', 'Date': 'Sat, 19 Dec 2020 14:39:47 GMT'}"
      ]
     },
     "execution_count": 25,
     "metadata": {},
     "output_type": "execute_result"
    }
   ],
   "source": [
    "pred.headers"
   ]
  },
  {
   "cell_type": "code",
   "execution_count": 29,
   "metadata": {},
   "outputs": [
    {
     "data": {
      "text/html": [
       "<div>\n",
       "<style scoped>\n",
       "    .dataframe tbody tr th:only-of-type {\n",
       "        vertical-align: middle;\n",
       "    }\n",
       "\n",
       "    .dataframe tbody tr th {\n",
       "        vertical-align: top;\n",
       "    }\n",
       "\n",
       "    .dataframe thead th {\n",
       "        text-align: right;\n",
       "    }\n",
       "</style>\n",
       "<table border=\"1\" class=\"dataframe\">\n",
       "  <thead>\n",
       "    <tr style=\"text-align: right;\">\n",
       "      <th></th>\n",
       "      <th>age</th>\n",
       "      <th>sex</th>\n",
       "      <th>bmi</th>\n",
       "      <th>children</th>\n",
       "      <th>smoker</th>\n",
       "      <th>region</th>\n",
       "      <th>charges</th>\n",
       "    </tr>\n",
       "  </thead>\n",
       "  <tbody>\n",
       "    <tr>\n",
       "      <th>0</th>\n",
       "      <td>19</td>\n",
       "      <td>female</td>\n",
       "      <td>27.9</td>\n",
       "      <td>0</td>\n",
       "      <td>yes</td>\n",
       "      <td>southwest</td>\n",
       "      <td>16884.924</td>\n",
       "    </tr>\n",
       "  </tbody>\n",
       "</table>\n",
       "</div>"
      ],
      "text/plain": [
       "   age     sex   bmi  children smoker     region    charges\n",
       "0   19  female  27.9         0    yes  southwest  16884.924"
      ]
     },
     "execution_count": 29,
     "metadata": {},
     "output_type": "execute_result"
    }
   ],
   "source": []
  },
  {
   "cell_type": "code",
   "execution_count": 30,
   "metadata": {},
   "outputs": [],
   "source": [
    "d = {'age':23, 'sex':'male', 'bmi':12, 'children':2, 'smoker':'yes', 'region':'northwest'}"
   ]
  },
  {
   "cell_type": "code",
   "execution_count": 31,
   "metadata": {},
   "outputs": [
    {
     "data": {
      "text/html": [
       "<div>\n",
       "<style scoped>\n",
       "    .dataframe tbody tr th:only-of-type {\n",
       "        vertical-align: middle;\n",
       "    }\n",
       "\n",
       "    .dataframe tbody tr th {\n",
       "        vertical-align: top;\n",
       "    }\n",
       "\n",
       "    .dataframe thead th {\n",
       "        text-align: right;\n",
       "    }\n",
       "</style>\n",
       "<table border=\"1\" class=\"dataframe\">\n",
       "  <thead>\n",
       "    <tr style=\"text-align: right;\">\n",
       "      <th></th>\n",
       "      <th>age</th>\n",
       "      <th>sex</th>\n",
       "      <th>bmi</th>\n",
       "      <th>children</th>\n",
       "      <th>smoker</th>\n",
       "      <th>region</th>\n",
       "    </tr>\n",
       "  </thead>\n",
       "  <tbody>\n",
       "    <tr>\n",
       "      <th>0</th>\n",
       "      <td>23</td>\n",
       "      <td>male</td>\n",
       "      <td>12</td>\n",
       "      <td>2</td>\n",
       "      <td>yes</td>\n",
       "      <td>northwest</td>\n",
       "    </tr>\n",
       "  </tbody>\n",
       "</table>\n",
       "</div>"
      ],
      "text/plain": [
       "   age   sex  bmi  children smoker     region\n",
       "0   23  male   12         2    yes  northwest"
      ]
     },
     "execution_count": 31,
     "metadata": {},
     "output_type": "execute_result"
    }
   ],
   "source": [
    "pd.DataFrame([d])"
   ]
  },
  {
   "cell_type": "code",
   "execution_count": 36,
   "metadata": {},
   "outputs": [
    {
     "data": {
      "text/plain": [
       "17486.299"
      ]
     },
     "execution_count": 36,
     "metadata": {},
     "output_type": "execute_result"
    }
   ],
   "source": [
    "predict_model(xgboost, data=pd.DataFrame([d])).Label[0]"
   ]
  },
  {
   "cell_type": "code",
   "execution_count": 39,
   "metadata": {},
   "outputs": [
    {
     "ename": "ModuleNotFoundError",
     "evalue": "No module named 'request'",
     "output_type": "error",
     "traceback": [
      "\u001b[1;31m---------------------------------------------------------------------------\u001b[0m",
      "\u001b[1;31mModuleNotFoundError\u001b[0m                       Traceback (most recent call last)",
      "\u001b[1;32m<ipython-input-39-e392607f0c42>\u001b[0m in \u001b[0;36m<module>\u001b[1;34m\u001b[0m\n\u001b[1;32m----> 1\u001b[1;33m \u001b[1;32mimport\u001b[0m \u001b[0mrequest\u001b[0m\u001b[1;33m\u001b[0m\u001b[1;33m\u001b[0m\u001b[0m\n\u001b[0m",
      "\u001b[1;31mModuleNotFoundError\u001b[0m: No module named 'request'"
     ]
    }
   ],
   "source": [
    "import request"
   ]
  },
  {
   "cell_type": "code",
   "execution_count": null,
   "metadata": {},
   "outputs": [],
   "source": [
    "request"
   ]
  }
 ],
 "metadata": {
  "kernelspec": {
   "display_name": "Python 3",
   "language": "python",
   "name": "python3"
  },
  "language_info": {
   "codemirror_mode": {
    "name": "ipython",
    "version": 3
   },
   "file_extension": ".py",
   "mimetype": "text/x-python",
   "name": "python",
   "nbconvert_exporter": "python",
   "pygments_lexer": "ipython3",
   "version": "3.7.4"
  }
 },
 "nbformat": 4,
 "nbformat_minor": 2
}
